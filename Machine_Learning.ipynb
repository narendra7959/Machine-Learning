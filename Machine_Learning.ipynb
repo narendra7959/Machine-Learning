{
  "cells": [
    {
      "cell_type": "code",
      "execution_count": 4,
      "metadata": {
        "id": "vuRewl__ibKj"
      },
      "outputs": [],
      "source": [
        "import numpy as np\n",
        "import matplotlib.pyplot as plt\n",
        "import pandas as pd"
      ]
    },
    {
      "cell_type": "code",
      "execution_count": 5,
      "metadata": {},
      "outputs": [],
      "source": [
        "dataset = pd.read_csv('Wholesale customers data.csv')\n",
        "X = dataset.iloc[:, :-1].values\n",
        "y = dataset.iloc[:, -1].values"
      ]
    },
    {
      "cell_type": "code",
      "execution_count": 6,
      "metadata": {
        "id": "e5FgfLddj4wb"
      },
      "outputs": [],
      "source": [
        "# dataset = pd.read_csv('/content/Wholesale customers data.csv')\n",
        "# X = dataset.iloc[:, :-1].values\n",
        "# y = dataset.iloc[:, -1].values"
      ]
    },
    {
      "cell_type": "code",
      "execution_count": 7,
      "metadata": {
        "id": "AmnqCDlEkIfI"
      },
      "outputs": [],
      "source": [
        "from sklearn.model_selection import train_test_split\n",
        "X_train, X_test, y_train, y_test = train_test_split(X, y, test_size = 0.25, random_state = 0)"
      ]
    },
    {
      "cell_type": "code",
      "execution_count": 8,
      "metadata": {
        "id": "AVFlhE3MkM7c"
      },
      "outputs": [],
      "source": [
        "from sklearn.preprocessing import StandardScaler, MinMaxScaler\n",
        "sc = StandardScaler()\n",
        "X_train = sc.fit_transform(X_train)\n",
        "X_test = sc.transform(X_test)"
      ]
    },
    {
      "cell_type": "code",
      "execution_count": 9,
      "metadata": {
        "id": "4UUikpibkSxG"
      },
      "outputs": [],
      "source": [
        "scaler = MinMaxScaler()\n",
        "X_train = scaler.fit_transform(X_train)\n",
        "X_test = scaler.transform(X_test)"
      ]
    },
    {
      "cell_type": "code",
      "execution_count": 10,
      "metadata": {
        "colab": {
          "base_uri": "https://localhost:8080/"
        },
        "id": "j4_GKd-tklHe",
        "outputId": "7a526832-28fa-4d86-e922-ae605447b1fa"
      },
      "outputs": [
        {
          "name": "stdout",
          "output_type": "stream",
          "text": [
            "[[1. 0. 0. 0. 0. 0. 0.]\n",
            " [0. 0. 0. 0. 0. 0. 0.]\n",
            " [0. 0. 0. 0. 0. 0. 0.]\n",
            " [1. 0. 0. 0. 0. 0. 0.]\n",
            " [0. 0. 0. 0. 0. 0. 0.]]\n"
          ]
        }
      ],
      "source": [
        "from sklearn.preprocessing import Binarizer\n",
        "binarizer = Binarizer(threshold=0.5)\n",
        "X_train = binarizer.fit_transform(X_train)\n",
        "X_test = binarizer.transform(X_test)\n",
        "print(X_train[:5])"
      ]
    },
    {
      "cell_type": "code",
      "execution_count": 11,
      "metadata": {
        "colab": {
          "base_uri": "https://localhost:8080/"
        },
        "id": "3gigiUJdkqK3",
        "outputId": "2fdb1a33-4cff-49c3-ac9f-af0cb9bc493b"
      },
      "outputs": [
        {
          "name": "stdout",
          "output_type": "stream",
          "text": [
            "[[1. 0. 0. ... 0. 0. 0.]\n",
            " [0. 0. 0. ... 0. 0. 0.]\n",
            " [0. 0. 0. ... 0. 0. 0.]\n",
            " ...\n",
            " [0. 0. 0. ... 0. 0. 0.]\n",
            " [1. 0. 1. ... 0. 1. 0.]\n",
            " [0. 0. 0. ... 0. 0. 0.]]\n"
          ]
        }
      ],
      "source": [
        "print(X_train)"
      ]
    },
    {
      "cell_type": "code",
      "execution_count": 12,
      "metadata": {
        "colab": {
          "base_uri": "https://localhost:8080/"
        },
        "id": "bI3y_Lqxktv3",
        "outputId": "615ca5e4-4adc-40bb-bbcd-367bbd8cdea4"
      },
      "outputs": [
        {
          "name": "stdout",
          "output_type": "stream",
          "text": [
            "<class 'pandas.core.frame.DataFrame'>\n",
            "RangeIndex: 440 entries, 0 to 439\n",
            "Data columns (total 8 columns):\n",
            " #   Column            Non-Null Count  Dtype\n",
            "---  ------            --------------  -----\n",
            " 0   Channel           440 non-null    int64\n",
            " 1   Fresh             440 non-null    int64\n",
            " 2   Milk              440 non-null    int64\n",
            " 3   Grocery           440 non-null    int64\n",
            " 4   Frozen            440 non-null    int64\n",
            " 5   Detergents_Paper  440 non-null    int64\n",
            " 6   Delicassen        440 non-null    int64\n",
            " 7   Region            440 non-null    int64\n",
            "dtypes: int64(8)\n",
            "memory usage: 27.6 KB\n"
          ]
        }
      ],
      "source": [
        "dataset.info()"
      ]
    },
    {
      "cell_type": "code",
      "execution_count": 13,
      "metadata": {
        "colab": {
          "base_uri": "https://localhost:8080/",
          "height": 300
        },
        "id": "_dpJ9dzSkxeZ",
        "outputId": "e1d46767-cb72-4e98-a407-f4ce82b1da08"
      },
      "outputs": [
        {
          "data": {
            "text/html": [
              "<div>\n",
              "<style scoped>\n",
              "    .dataframe tbody tr th:only-of-type {\n",
              "        vertical-align: middle;\n",
              "    }\n",
              "\n",
              "    .dataframe tbody tr th {\n",
              "        vertical-align: top;\n",
              "    }\n",
              "\n",
              "    .dataframe thead th {\n",
              "        text-align: right;\n",
              "    }\n",
              "</style>\n",
              "<table border=\"1\" class=\"dataframe\">\n",
              "  <thead>\n",
              "    <tr style=\"text-align: right;\">\n",
              "      <th></th>\n",
              "      <th>Channel</th>\n",
              "      <th>Fresh</th>\n",
              "      <th>Milk</th>\n",
              "      <th>Grocery</th>\n",
              "      <th>Frozen</th>\n",
              "      <th>Detergents_Paper</th>\n",
              "      <th>Delicassen</th>\n",
              "      <th>Region</th>\n",
              "    </tr>\n",
              "  </thead>\n",
              "  <tbody>\n",
              "    <tr>\n",
              "      <th>count</th>\n",
              "      <td>440.000000</td>\n",
              "      <td>440.000000</td>\n",
              "      <td>440.000000</td>\n",
              "      <td>440.000000</td>\n",
              "      <td>440.000000</td>\n",
              "      <td>440.000000</td>\n",
              "      <td>440.000000</td>\n",
              "      <td>440.000000</td>\n",
              "    </tr>\n",
              "    <tr>\n",
              "      <th>mean</th>\n",
              "      <td>1.322727</td>\n",
              "      <td>12000.297727</td>\n",
              "      <td>5796.265909</td>\n",
              "      <td>7951.277273</td>\n",
              "      <td>3071.931818</td>\n",
              "      <td>2881.493182</td>\n",
              "      <td>1524.870455</td>\n",
              "      <td>2.543182</td>\n",
              "    </tr>\n",
              "    <tr>\n",
              "      <th>std</th>\n",
              "      <td>0.468052</td>\n",
              "      <td>12647.328865</td>\n",
              "      <td>7380.377175</td>\n",
              "      <td>9503.162829</td>\n",
              "      <td>4854.673333</td>\n",
              "      <td>4767.854448</td>\n",
              "      <td>2820.105937</td>\n",
              "      <td>0.774272</td>\n",
              "    </tr>\n",
              "    <tr>\n",
              "      <th>min</th>\n",
              "      <td>1.000000</td>\n",
              "      <td>3.000000</td>\n",
              "      <td>55.000000</td>\n",
              "      <td>3.000000</td>\n",
              "      <td>25.000000</td>\n",
              "      <td>3.000000</td>\n",
              "      <td>3.000000</td>\n",
              "      <td>1.000000</td>\n",
              "    </tr>\n",
              "    <tr>\n",
              "      <th>25%</th>\n",
              "      <td>1.000000</td>\n",
              "      <td>3127.750000</td>\n",
              "      <td>1533.000000</td>\n",
              "      <td>2153.000000</td>\n",
              "      <td>742.250000</td>\n",
              "      <td>256.750000</td>\n",
              "      <td>408.250000</td>\n",
              "      <td>2.000000</td>\n",
              "    </tr>\n",
              "    <tr>\n",
              "      <th>50%</th>\n",
              "      <td>1.000000</td>\n",
              "      <td>8504.000000</td>\n",
              "      <td>3627.000000</td>\n",
              "      <td>4755.500000</td>\n",
              "      <td>1526.000000</td>\n",
              "      <td>816.500000</td>\n",
              "      <td>965.500000</td>\n",
              "      <td>3.000000</td>\n",
              "    </tr>\n",
              "    <tr>\n",
              "      <th>75%</th>\n",
              "      <td>2.000000</td>\n",
              "      <td>16933.750000</td>\n",
              "      <td>7190.250000</td>\n",
              "      <td>10655.750000</td>\n",
              "      <td>3554.250000</td>\n",
              "      <td>3922.000000</td>\n",
              "      <td>1820.250000</td>\n",
              "      <td>3.000000</td>\n",
              "    </tr>\n",
              "    <tr>\n",
              "      <th>max</th>\n",
              "      <td>2.000000</td>\n",
              "      <td>112151.000000</td>\n",
              "      <td>73498.000000</td>\n",
              "      <td>92780.000000</td>\n",
              "      <td>60869.000000</td>\n",
              "      <td>40827.000000</td>\n",
              "      <td>47943.000000</td>\n",
              "      <td>3.000000</td>\n",
              "    </tr>\n",
              "  </tbody>\n",
              "</table>\n",
              "</div>"
            ],
            "text/plain": [
              "          Channel          Fresh          Milk       Grocery        Frozen  \\\n",
              "count  440.000000     440.000000    440.000000    440.000000    440.000000   \n",
              "mean     1.322727   12000.297727   5796.265909   7951.277273   3071.931818   \n",
              "std      0.468052   12647.328865   7380.377175   9503.162829   4854.673333   \n",
              "min      1.000000       3.000000     55.000000      3.000000     25.000000   \n",
              "25%      1.000000    3127.750000   1533.000000   2153.000000    742.250000   \n",
              "50%      1.000000    8504.000000   3627.000000   4755.500000   1526.000000   \n",
              "75%      2.000000   16933.750000   7190.250000  10655.750000   3554.250000   \n",
              "max      2.000000  112151.000000  73498.000000  92780.000000  60869.000000   \n",
              "\n",
              "       Detergents_Paper    Delicassen      Region  \n",
              "count        440.000000    440.000000  440.000000  \n",
              "mean        2881.493182   1524.870455    2.543182  \n",
              "std         4767.854448   2820.105937    0.774272  \n",
              "min            3.000000      3.000000    1.000000  \n",
              "25%          256.750000    408.250000    2.000000  \n",
              "50%          816.500000    965.500000    3.000000  \n",
              "75%         3922.000000   1820.250000    3.000000  \n",
              "max        40827.000000  47943.000000    3.000000  "
            ]
          },
          "execution_count": 13,
          "metadata": {},
          "output_type": "execute_result"
        }
      ],
      "source": [
        "dataset.describe()"
      ]
    },
    {
      "cell_type": "markdown",
      "metadata": {
        "id": "tVeoAdCTk6km"
      },
      "source": [
        "Feature selection for machine"
      ]
    },
    {
      "cell_type": "markdown",
      "metadata": {
        "id": "stGd3G0clDUi"
      },
      "source": [
        "Univariate learning"
      ]
    },
    {
      "cell_type": "code",
      "execution_count": null,
      "metadata": {
        "id": "q2tV5aoBlIoJ"
      },
      "outputs": [],
      "source": []
    },
    {
      "cell_type": "markdown",
      "metadata": {
        "id": "41kFUQ_flV8P"
      },
      "source": [
        "Recursive Feature Elimination"
      ]
    },
    {
      "cell_type": "code",
      "execution_count": 14,
      "metadata": {
        "colab": {
          "base_uri": "https://localhost:8080/"
        },
        "id": "PqSm2Gg5lZpZ",
        "outputId": "4b38a246-e4cf-4e65-efca-5f1d7766cdce"
      },
      "outputs": [
        {
          "name": "stdout",
          "output_type": "stream",
          "text": [
            "Feature Ranking: [4 3 2 1 5 1 6]\n",
            "Selected Features Shape: (330, 2)\n"
          ]
        }
      ],
      "source": [
        "from sklearn.feature_selection import RFE\n",
        "from sklearn.svm import SVC\n",
        "\n",
        "model = SVC(kernel=\"linear\")\n",
        "rfe = RFE(model, n_features_to_select=2)\n",
        "X_new = rfe.fit_transform(X_train, y_train)\n",
        "\n",
        "print(\"Feature Ranking:\", rfe.ranking_)\n",
        "\n",
        "print(\"Selected Features Shape:\", X_new.shape)\n"
      ]
    },
    {
      "cell_type": "markdown",
      "metadata": {
        "id": "HwJ4abwAlesi"
      },
      "source": [
        "Principal Component Analysis"
      ]
    },
    {
      "cell_type": "code",
      "execution_count": 15,
      "metadata": {
        "colab": {
          "base_uri": "https://localhost:8080/"
        },
        "id": "PDNftS-RlcuC",
        "outputId": "a3816efe-1efc-4e69-edee-a45f8acdabe1"
      },
      "outputs": [
        {
          "name": "stdout",
          "output_type": "stream",
          "text": [
            "Explained Variance Ratio: [0.76877892 0.11460853]\n",
            "Selected Features Shape: (330, 2)\n"
          ]
        }
      ],
      "source": [
        "from sklearn.decomposition import PCA\n",
        "pca = PCA(n_components=2)\n",
        "X_new = pca.fit_transform(X_train)\n",
        "\n",
        "print(\"Explained Variance Ratio:\", pca.explained_variance_ratio_)\n",
        "print(\"Selected Features Shape:\", X_new.shape)"
      ]
    },
    {
      "cell_type": "markdown",
      "metadata": {
        "id": "MwawhhMlll9L"
      },
      "source": [
        "Feature Importance"
      ]
    },
    {
      "cell_type": "code",
      "execution_count": 16,
      "metadata": {
        "colab": {
          "base_uri": "https://localhost:8080/"
        },
        "id": "p1jpkxS-lkTm",
        "outputId": "f204656a-6659-4d94-d006-0e4d09efd446"
      },
      "outputs": [
        {
          "name": "stdout",
          "output_type": "stream",
          "text": [
            "Feature Importances: [0.13033246 0.03034962 0.46976932 0.11940151 0.10277989 0.1180291\n",
            " 0.02933811]\n"
          ]
        }
      ],
      "source": [
        "from sklearn.ensemble import ExtraTreesClassifier\n",
        "\n",
        "model = ExtraTreesClassifier()\n",
        "model.fit(X_train, y_train)\n",
        "\n",
        "print(\"Feature Importances:\", model.feature_importances_)\n"
      ]
    },
    {
      "cell_type": "markdown",
      "metadata": {
        "id": "A7H_qLC7lqkG"
      },
      "source": [
        "Evaluate Performance by Resampling"
      ]
    },
    {
      "cell_type": "markdown",
      "metadata": {
        "id": "T35KV3WUlzzk"
      },
      "source": [
        "K - Fold Cross Validation"
      ]
    },
    {
      "cell_type": "code",
      "execution_count": 17,
      "metadata": {
        "id": "2Syvo1x0lw-I"
      },
      "outputs": [],
      "source": [
        "from sklearn.model_selection import train_test_split, cross_val_score, KFold, LeaveOneOut, RepeatedStratifiedKFold"
      ]
    },
    {
      "cell_type": "markdown",
      "metadata": {
        "id": "hT2u3uWql7ib"
      },
      "source": [
        "Leave One Out cross validation"
      ]
    },
    {
      "cell_type": "code",
      "execution_count": 18,
      "metadata": {
        "colab": {
          "base_uri": "https://localhost:8080/"
        },
        "id": "BOim8AJbl6iG",
        "outputId": "dfba795a-bd66-403f-e7ff-079b5e942ed1"
      },
      "outputs": [
        {
          "name": "stdout",
          "output_type": "stream",
          "text": [
            "LOOCV Accuracy: 0.7023\n"
          ]
        }
      ],
      "source": [
        "loo = LeaveOneOut()\n",
        "scores = cross_val_score(model, X, y, cv=loo)\n",
        "\n",
        "print(f\"LOOCV Accuracy: {np.mean(scores):.4f}\")"
      ]
    },
    {
      "cell_type": "markdown",
      "metadata": {
        "id": "hDY2da6ymFK6"
      },
      "source": [
        "Repeated Random Train Test Splits"
      ]
    },
    {
      "cell_type": "code",
      "execution_count": 19,
      "metadata": {
        "colab": {
          "base_uri": "https://localhost:8080/"
        },
        "id": "zMc2RzFkmIsz",
        "outputId": "ab91df1c-9c9c-4af6-b445-db604580f4b7"
      },
      "outputs": [
        {
          "name": "stdout",
          "output_type": "stream",
          "text": [
            "Repeated Holdout Accuracy Scores: [0.72727273 0.70454545 0.68181818 0.72727273 0.68181818 0.70454545\n",
            " 0.68181818 0.68181818 0.70454545 0.68181818 0.70454545 0.70454545\n",
            " 0.70454545 0.68181818 0.72727273 0.72727273 0.68181818 0.63636364\n",
            " 0.65909091 0.70454545 0.68181818 0.65909091 0.72727273 0.65909091\n",
            " 0.70454545 0.70454545 0.72727273 0.70454545 0.70454545 0.68181818]\n",
            "Mean Accuracy: 0.6955\n"
          ]
        }
      ],
      "source": [
        "repeated_kf = RepeatedStratifiedKFold(n_splits=10, n_repeats=3, random_state=0)\n",
        "\n",
        "scores = cross_val_score(model, X, y, cv=repeated_kf)\n",
        "\n",
        "print(f\"Repeated Holdout Accuracy Scores: {scores}\")\n",
        "print(f\"Mean Accuracy: {np.mean(scores):.4f}\")\n"
      ]
    },
    {
      "cell_type": "markdown",
      "metadata": {
        "id": "jYWBHxqBmMpM"
      },
      "source": [
        "Machine Learning Algorithm Performance Metrics"
      ]
    },
    {
      "cell_type": "code",
      "execution_count": 20,
      "metadata": {
        "colab": {
          "base_uri": "https://localhost:8080/"
        },
        "id": "-jpc6ueSmT-X",
        "outputId": "30770bf9-bd3c-46b0-be29-2e8bb5c9624d"
      },
      "outputs": [
        {
          "name": "stdout",
          "output_type": "stream",
          "text": [
            "Classification Accuracy: 0.7273\n",
            "Logarithmic Loss: 0.7821\n",
            "Area Under ROC Curve: 0.4882\n",
            "Confusion Matrix:\n",
            "[[ 0  0 18]\n",
            " [ 0  0 12]\n",
            " [ 0  0 80]]\n",
            "Classification Report:\n",
            "              precision    recall  f1-score   support\n",
            "\n",
            "           1       0.00      0.00      0.00        18\n",
            "           2       0.00      0.00      0.00        12\n",
            "           3       0.73      1.00      0.84        80\n",
            "\n",
            "    accuracy                           0.73       110\n",
            "   macro avg       0.24      0.33      0.28       110\n",
            "weighted avg       0.53      0.73      0.61       110\n",
            "\n"
          ]
        },
        {
          "name": "stderr",
          "output_type": "stream",
          "text": [
            "C:\\Users\\admin\\AppData\\Roaming\\Python\\Python313\\site-packages\\sklearn\\metrics\\_classification.py:1565: UndefinedMetricWarning: Precision is ill-defined and being set to 0.0 in labels with no predicted samples. Use `zero_division` parameter to control this behavior.\n",
            "  _warn_prf(average, modifier, f\"{metric.capitalize()} is\", len(result))\n",
            "C:\\Users\\admin\\AppData\\Roaming\\Python\\Python313\\site-packages\\sklearn\\metrics\\_classification.py:1565: UndefinedMetricWarning: Precision is ill-defined and being set to 0.0 in labels with no predicted samples. Use `zero_division` parameter to control this behavior.\n",
            "  _warn_prf(average, modifier, f\"{metric.capitalize()} is\", len(result))\n",
            "C:\\Users\\admin\\AppData\\Roaming\\Python\\Python313\\site-packages\\sklearn\\metrics\\_classification.py:1565: UndefinedMetricWarning: Precision is ill-defined and being set to 0.0 in labels with no predicted samples. Use `zero_division` parameter to control this behavior.\n",
            "  _warn_prf(average, modifier, f\"{metric.capitalize()} is\", len(result))\n"
          ]
        }
      ],
      "source": [
        "from sklearn.svm import SVC\n",
        "from sklearn.metrics import accuracy_score, log_loss, roc_auc_score, confusion_matrix, classification_report\n",
        "\n",
        "model = SVC(kernel='linear', probability=True)\n",
        "model.fit(X_train, y_train)\n",
        "y_pred = model.predict(X_test)\n",
        "y_pred_prob = model.predict_proba(X_test)\n",
        "\n",
        "accuracy = accuracy_score(y_test, y_pred)\n",
        "logloss = log_loss(y_test, y_pred_prob)\n",
        "# roc_auc = roc_auc_score(y_test, y_pred_prob[:, 1])\n",
        "roc_auc = roc_auc_score(y_test, y_pred_prob, multi_class='ovr')\n",
        "conf_matrix = confusion_matrix(y_test, y_pred)\n",
        "class_report = classification_report(y_test, y_pred)\n",
        "\n",
        "print(f\"Classification Accuracy: {accuracy:.4f}\")\n",
        "print(f\"Logarithmic Loss: {logloss:.4f}\")\n",
        "print(f\"Area Under ROC Curve: {roc_auc:.4f}\")\n",
        "print(\"Confusion Matrix:\")\n",
        "print(conf_matrix)\n",
        "print(\"Classification Report:\")\n",
        "print(class_report)"
      ]
    },
    {
      "cell_type": "markdown",
      "metadata": {
        "id": "HpIAXUvomZw_"
      },
      "source": [
        "Regression Tasks"
      ]
    },
    {
      "cell_type": "code",
      "execution_count": 21,
      "metadata": {
        "colab": {
          "base_uri": "https://localhost:8080/"
        },
        "id": "v2ZyBBXUmXqN",
        "outputId": "7108de14-2baa-4932-d07e-0996778be832"
      },
      "outputs": [
        {
          "name": "stdout",
          "output_type": "stream",
          "text": [
            "Mean Absolute Error: 0.4364\n",
            "Mean Squared Error: 0.7636\n",
            "R2 Score: -0.3322\n"
          ]
        }
      ],
      "source": [
        "from sklearn.metrics import mean_absolute_error, mean_squared_error, r2_score\n",
        "\n",
        "mae = mean_absolute_error(y_test, y_pred)\n",
        "mse = mean_squared_error(y_test, y_pred)\n",
        "r2 = r2_score(y_test, y_pred)\n",
        "\n",
        "print(f\"Mean Absolute Error: {mae:.4f}\")\n",
        "print(f\"Mean Squared Error: {mse:.4f}\")\n",
        "print(f\"R2 Score: {r2:.4f}\")"
      ]
    }
  ],
  "metadata": {
    "colab": {
      "provenance": []
    },
    "kernelspec": {
      "display_name": "Python 3",
      "name": "python3"
    },
    "language_info": {
      "codemirror_mode": {
        "name": "ipython",
        "version": 3
      },
      "file_extension": ".py",
      "mimetype": "text/x-python",
      "name": "python",
      "nbconvert_exporter": "python",
      "pygments_lexer": "ipython3",
      "version": "3.13.1"
    }
  },
  "nbformat": 4,
  "nbformat_minor": 0
}
